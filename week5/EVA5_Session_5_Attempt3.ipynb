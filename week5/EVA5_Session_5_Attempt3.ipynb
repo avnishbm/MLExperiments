{
  "nbformat": 4,
  "nbformat_minor": 0,
  "metadata": {
    "colab": {
      "name": "EVA5_Session 5_Attempt3.ipynb",
      "provenance": [],
      "collapsed_sections": []
    },
    "kernelspec": {
      "name": "python3",
      "display_name": "Python 3"
    },
    "accelerator": "GPU"
  },
  "cells": [
    {
      "cell_type": "markdown",
      "metadata": {
        "id": "ZryMFKwj5oq0",
        "colab_type": "text"
      },
      "source": [
        "# Attempt 3:\n",
        "## Target: \n",
        "Achieve less than 10K parameters & greater than 99.4% accuracy.\n",
        "\n",
        "## Results:\n",
        "Parameters: 8786\n",
        "Training Accuracy: 98.76% (max 98.85%)\n",
        "Test Accuracy: 99.43% (max 99.46%)\n",
        "\n",
        "## Analysis\n",
        "Model was changed to add capacity (kernels/channels).\n",
        "Used LR Scheduler to reduce the Learning Rate gradually.\n",
        "Model is good for less than 10K parameters, can try for less than 8K parameters in next step.\n",
        "Batch size of 64 used as the batch size - accuracy graph showed max accuracy at around 64 batch size."
      ]
    },
    {
      "cell_type": "markdown",
      "metadata": {
        "id": "SQQkQgSFay9z",
        "colab_type": "text"
      },
      "source": [
        "# Import Libraries"
      ]
    },
    {
      "cell_type": "code",
      "metadata": {
        "id": "0m2JWFliFfKT",
        "colab_type": "code",
        "colab": {}
      },
      "source": [
        "# importing all the Python Packages & torch Library.\n",
        "from __future__ import print_function\n",
        "import torch\n",
        "import torch.nn as nn\n",
        "import torch.nn.functional as F\n",
        "import torch.optim as optim\n",
        "from torchvision import datasets, transforms"
      ],
      "execution_count": null,
      "outputs": []
    },
    {
      "cell_type": "markdown",
      "metadata": {
        "id": "ZDxHd9SdWNJK",
        "colab_type": "text"
      },
      "source": [
        "# Define Data Transformations & Dataset for Train/Test"
      ]
    },
    {
      "cell_type": "code",
      "metadata": {
        "id": "_efQnbQuWLco",
        "colab_type": "code",
        "colab": {}
      },
      "source": [
        "train_transforms = transforms.Compose([\n",
        "                        transforms.RandomRotation((-10.0, 10.0), fill=(1,)),\n",
        "                        # transforms.RandomErasing(),\n",
        "                        transforms.ToTensor(),\n",
        "                        transforms.Normalize((0.1307,), (0.3081,))\n",
        "                    ])\n",
        "\n",
        "test_transforms = transforms.Compose([\n",
        "                        transforms.ToTensor(),\n",
        "                        transforms.Normalize((0.1307,), (0.3081,))\n",
        "                    ])\n",
        "\n",
        "train = datasets.MNIST('./data', train=True, download=True, transform=train_transforms)\n",
        "test = datasets.MNIST('./data', train=False, download=True, transform=test_transforms)"
      ],
      "execution_count": null,
      "outputs": []
    },
    {
      "cell_type": "markdown",
      "metadata": {
        "id": "y4b0YpskaYd4",
        "colab_type": "text"
      },
      "source": [
        "# Dataloader Arguments & Train / Test Dataloaders"
      ]
    },
    {
      "cell_type": "code",
      "metadata": {
        "id": "2ueKm5zsaWcl",
        "colab_type": "code",
        "colab": {
          "base_uri": "https://localhost:8080/",
          "height": 34
        },
        "outputId": "20191fe9-33f0-4311-88eb-5eee2db682bc"
      },
      "source": [
        "# seed the model to obtain consistent results\n",
        "torch.manual_seed(1)\n",
        "# this is the batch size , in 1 pas no of images passed together.\n",
        "batch_size = 64\n",
        "use_cuda = torch.cuda.is_available()\n",
        "\n",
        "print(\"CUDA Available?\", use_cuda)\n",
        "\n",
        "# kwargs = {'num_workers': 2, 'pin_memory': True} if use_cuda else {}\n",
        "\n",
        "# dataloader arguments - something you'll fetch these from cmdprmt. \n",
        "# Used batch size 64 as that gets us max accuracy, as per batch size - accuracy graph\n",
        "dataloader_args = dict(shuffle=True, batch_size=64, num_workers=4, pin_memory=True) if use_cuda else dict(shuffle=True, batch_size=64)\n",
        "\n",
        "\n",
        "\n",
        "# load the training data and perform standard normalization \n",
        "# parameter for normalization is mean and std dev.\n",
        "# train dataloader\n",
        "train_loader = torch.utils.data.DataLoader(train, **dataloader_args)\n",
        "\n",
        "# test dataloader\n",
        "test_loader = torch.utils.data.DataLoader(test, **dataloader_args)"
      ],
      "execution_count": null,
      "outputs": [
        {
          "output_type": "stream",
          "text": [
            "CUDA Available? True\n"
          ],
          "name": "stdout"
        }
      ]
    },
    {
      "cell_type": "markdown",
      "metadata": {
        "id": "v3Og4dmBao2N",
        "colab_type": "text"
      },
      "source": [
        "# The Model"
      ]
    },
    {
      "cell_type": "code",
      "metadata": {
        "id": "h_Cx9q2QFgM7",
        "colab_type": "code",
        "colab": {}
      },
      "source": [
        "class Net(nn.Module):\n",
        "    def __init__(self):\n",
        "        super(Net, self).__init__()\n",
        "        \n",
        "        self.conv1 = nn.Sequential(\n",
        "            \n",
        "            nn.Conv2d(in_channels=1, out_channels=4, kernel_size=(3, 3), padding=0, bias = True), # output 26X26X4 : RF- 3X3\n",
        "            nn.ReLU(),\n",
        "            nn.BatchNorm2d(4), # Batch Normalization after each convolution.\n",
        "            nn.Dropout2d(0.05), # dropout of 5% at each layer\n",
        "            \n",
        "            nn.Conv2d(4, 8, 3), # output 24X24X8 : RF - 5x5\n",
        "            nn.ReLU(),\n",
        "            nn.BatchNorm2d(8),  # Batch Normalization after each convolution.\n",
        "            nn.Dropout2d(0.05),  # dropout of 5% at each layer\n",
        "\n",
        "            nn.Conv2d(8, 16, 3), # output 22X22X16 : RF - 7X7\n",
        "            nn.ReLU(),\n",
        "            nn.BatchNorm2d(16),  # Batch Normalization after each convolution.\n",
        "            nn.Dropout2d(0.05),  # dropout of 5% at each layer\n",
        "\n",
        "            nn.MaxPool2d(2, 2)       # output 11X11X16 : RF - 9x9 \n",
        "            )\n",
        "        self.conv2 = nn.Sequential(\n",
        "            \n",
        "           \n",
        "            nn.Conv2d(16, 16, 3), # output 9X9X16 : RF - 13x13\n",
        "            nn.ReLU(),\n",
        "            nn.BatchNorm2d(16),\n",
        "            nn.Dropout2d(0.05), # 5% dropout\n",
        "\n",
        "            nn.Conv2d(16, 16, 3, padding=1), # output 9X9X16 : RF - 17x17\n",
        "            nn.ReLU(),\n",
        "            nn.BatchNorm2d(16),\n",
        "            nn.Dropout2d(0.05), # 5% dropout\n",
        "\n",
        "            )\n",
        "        self.conv3 = nn.Sequential(\n",
        "           \n",
        "            nn.Conv2d(16, 16, 3,padding=1), # output 9X9X16 : RF - 21 X 21\n",
        "            nn.ReLU(),\n",
        "            nn.BatchNorm2d(16),\n",
        "            nn.Dropout2d(0.05), # 5% dropout\n",
        "\n",
        "            nn.Conv2d(16, 10, 1), # output 7X7X10 : RF- 21 X 21\n",
        "            nn.AvgPool2d(7) # output 1x1x10 : RF - 33 x 33?\n",
        "\n",
        "            )\n",
        "        \n",
        "    def forward(self, x):\n",
        "        \n",
        "        x = self.conv1(x)\n",
        "        x= self.conv2(x)\n",
        "        x= self.conv3(x)\n",
        "        x = x.view(-1, 10)\n",
        "        return F.log_softmax(x, -1)"
      ],
      "execution_count": null,
      "outputs": []
    },
    {
      "cell_type": "markdown",
      "metadata": {
        "id": "lMkoC-Q_a-cv",
        "colab_type": "text"
      },
      "source": [
        "# Print Summary of Model"
      ]
    },
    {
      "cell_type": "code",
      "metadata": {
        "colab_type": "code",
        "id": "xdydjYTZFyi3",
        "colab": {
          "base_uri": "https://localhost:8080/",
          "height": 729
        },
        "outputId": "85bde64a-a997-40ce-a1cd-24f0297a1a99"
      },
      "source": [
        "!pip install torchsummary\n",
        "from torchsummary import summary\n",
        "device = torch.device(\"cuda\" if use_cuda else \"cpu\")\n",
        "model = Net().to(device)\n",
        "summary(model, input_size=(1, 28, 28))"
      ],
      "execution_count": null,
      "outputs": [
        {
          "output_type": "stream",
          "text": [
            "Requirement already satisfied: torchsummary in /usr/local/lib/python3.6/dist-packages (1.5.1)\n",
            "----------------------------------------------------------------\n",
            "        Layer (type)               Output Shape         Param #\n",
            "================================================================\n",
            "            Conv2d-1            [-1, 4, 26, 26]              40\n",
            "              ReLU-2            [-1, 4, 26, 26]               0\n",
            "       BatchNorm2d-3            [-1, 4, 26, 26]               8\n",
            "         Dropout2d-4            [-1, 4, 26, 26]               0\n",
            "            Conv2d-5            [-1, 8, 24, 24]             296\n",
            "              ReLU-6            [-1, 8, 24, 24]               0\n",
            "       BatchNorm2d-7            [-1, 8, 24, 24]              16\n",
            "         Dropout2d-8            [-1, 8, 24, 24]               0\n",
            "            Conv2d-9           [-1, 16, 22, 22]           1,168\n",
            "             ReLU-10           [-1, 16, 22, 22]               0\n",
            "      BatchNorm2d-11           [-1, 16, 22, 22]              32\n",
            "        Dropout2d-12           [-1, 16, 22, 22]               0\n",
            "        MaxPool2d-13           [-1, 16, 11, 11]               0\n",
            "           Conv2d-14             [-1, 16, 9, 9]           2,320\n",
            "             ReLU-15             [-1, 16, 9, 9]               0\n",
            "      BatchNorm2d-16             [-1, 16, 9, 9]              32\n",
            "        Dropout2d-17             [-1, 16, 9, 9]               0\n",
            "           Conv2d-18             [-1, 16, 9, 9]           2,320\n",
            "             ReLU-19             [-1, 16, 9, 9]               0\n",
            "      BatchNorm2d-20             [-1, 16, 9, 9]              32\n",
            "        Dropout2d-21             [-1, 16, 9, 9]               0\n",
            "           Conv2d-22             [-1, 16, 9, 9]           2,320\n",
            "             ReLU-23             [-1, 16, 9, 9]               0\n",
            "      BatchNorm2d-24             [-1, 16, 9, 9]              32\n",
            "        Dropout2d-25             [-1, 16, 9, 9]               0\n",
            "           Conv2d-26             [-1, 10, 9, 9]             170\n",
            "        AvgPool2d-27             [-1, 10, 1, 1]               0\n",
            "================================================================\n",
            "Total params: 8,786\n",
            "Trainable params: 8,786\n",
            "Non-trainable params: 0\n",
            "----------------------------------------------------------------\n",
            "Input size (MB): 0.00\n",
            "Forward/backward pass size (MB): 0.60\n",
            "Params size (MB): 0.03\n",
            "Estimated Total Size (MB): 0.64\n",
            "----------------------------------------------------------------\n"
          ],
          "name": "stdout"
        }
      ]
    },
    {
      "cell_type": "markdown",
      "metadata": {
        "id": "H6q9jwl0dhtx",
        "colab_type": "text"
      },
      "source": [
        "# Define Train and Test functions"
      ]
    },
    {
      "cell_type": "code",
      "metadata": {
        "id": "8fDefDhaFlwH",
        "colab_type": "code",
        "colab": {}
      },
      "source": [
        "from tqdm import tqdm\n",
        "\n",
        "train_losses = []\n",
        "test_losses = []\n",
        "train_acc = []\n",
        "test_acc = []\n",
        "\n",
        "# Function to train \n",
        "'''\n",
        "Args: \n",
        "Model : created model to be used for training\n",
        "device : GPU or cpu\n",
        "train_laoded: data on which the training has to be done\n",
        "Optimizer : the optimization algorithm to be used\n",
        "epoch : no fo epoch \n",
        "\n",
        "'''\n",
        "def train(model, device, train_loader, optimizer, epoch):\n",
        "    model.train() # Set the model on training mode\n",
        "    pbar = tqdm(train_loader)\n",
        "    correct = 0\n",
        "    processed = 0\n",
        "    for batch_idx, (data, target) in enumerate(pbar):\n",
        "        data, target = data.to(device), target.to(device) # moving the data to device\n",
        "        optimizer.zero_grad() # zero the graidents \n",
        "        output = model(data) # getting the model output\n",
        "        loss = F.nll_loss(output, target) # calculating the The negative log likelihood loss\n",
        "        train_losses.append(loss)\n",
        "        loss.backward() # flowing the gradients backward.\n",
        "        optimizer.step() # paameter updated basd on the current gradient.\n",
        "        \n",
        "        pred = output.argmax(dim=1, keepdim=True)  # get the index of the max log-probability\n",
        "        correct += pred.eq(target.view_as(pred)).sum().item()\n",
        "        processed += len(data)        \n",
        "        \n",
        "        pbar.set_description(desc= f'loss={loss.item()} batch_id={batch_idx} Train Accuracy={100*correct/processed:0.2f}')\n",
        "        train_acc.append(100*correct/processed)\n",
        "\n",
        "# Function to test \n",
        "'''\n",
        "Args: \n",
        "Model : created model to be used for training\n",
        "device : GPU or cpu\n",
        "test_laoded: data on which the testing has to be done\n",
        " \n",
        "\n",
        "'''\n",
        "def test(model, device, test_loader):\n",
        "    model.eval() # seting up the model for evalaution.\n",
        "    test_loss = 0 # setting the test loss to 0\n",
        "    correct = 0 # countign the no of coorect classfication.\n",
        "    with torch.no_grad(): # turn off gradients, since we are in test mode\n",
        "        for data, target in test_loader:\n",
        "            data, target = data.to(device), target.to(device)   # copy the data to device.\n",
        "            output = model(data) # predict the output\n",
        "            test_loss += F.nll_loss(output, target, reduction='sum').item()  # sum up batch loss\n",
        "            pred = output.argmax(dim=1, keepdim=True)  # get the index of the max log-probability\n",
        "            correct += pred.eq(target.view_as(pred)).sum().item()\n",
        "\n",
        "    test_loss /= len(test_loader.dataset) # calculating hte test loss.\n",
        "    test_losses.append(test_loss)\n",
        "\n",
        "    print('\\nTest set: Average loss: {:.4f}, Test Accuracy: {}/{} ({:.2f}%)\\n'.format(\n",
        "        test_loss, correct, len(test_loader.dataset),\n",
        "        100. * correct / len(test_loader.dataset)))\n",
        "    test_acc.append(100. * correct / len(test_loader.dataset))"
      ],
      "execution_count": null,
      "outputs": []
    },
    {
      "cell_type": "markdown",
      "metadata": {
        "id": "H3tYkzvQdWbc",
        "colab_type": "text"
      },
      "source": [
        "# Run the model"
      ]
    },
    {
      "cell_type": "code",
      "metadata": {
        "id": "MMWbLWO6FuHb",
        "colab_type": "code",
        "colab": {
          "base_uri": "https://localhost:8080/",
          "height": 1000
        },
        "outputId": "48dacee5-a18f-4d0c-8178-7c716bfb4bba"
      },
      "source": [
        "from torch.optim.lr_scheduler import StepLR\n",
        "\n",
        "\n",
        "model = Net().to(device) # move the model to device.\n",
        "optimizer = optim.SGD(model.parameters(), lr=0.1, momentum=0.9)  # intiating the SGD optimizer\n",
        "scheduler = StepLR(optimizer, step_size=6, gamma=0.1)\n",
        "\n",
        "for epoch in range(1, 16):\n",
        "    print(\"epoch =\", epoch)\n",
        "    train(model, device, train_loader, optimizer, epoch)\n",
        "    scheduler.step()\n",
        "    test(model, device, test_loader)\n",
        "    "
      ],
      "execution_count": null,
      "outputs": [
        {
          "output_type": "stream",
          "text": [
            "\r  0%|          | 0/938 [00:00<?, ?it/s]"
          ],
          "name": "stderr"
        },
        {
          "output_type": "stream",
          "text": [
            "epoch = 1\n"
          ],
          "name": "stdout"
        },
        {
          "output_type": "stream",
          "text": [
            "loss=0.04308328777551651 batch_id=937 Train Accuracy=92.11: 100%|██████████| 938/938 [00:28<00:00, 32.78it/s]\n",
            "  0%|          | 0/938 [00:00<?, ?it/s]"
          ],
          "name": "stderr"
        },
        {
          "output_type": "stream",
          "text": [
            "\n",
            "Test set: Average loss: 0.0490, Test Accuracy: 9848/10000 (98.48%)\n",
            "\n",
            "epoch = 2\n"
          ],
          "name": "stdout"
        },
        {
          "output_type": "stream",
          "text": [
            "loss=0.015669340267777443 batch_id=937 Train Accuracy=96.99: 100%|██████████| 938/938 [00:27<00:00, 33.50it/s]\n",
            "  0%|          | 0/938 [00:00<?, ?it/s]"
          ],
          "name": "stderr"
        },
        {
          "output_type": "stream",
          "text": [
            "\n",
            "Test set: Average loss: 0.0388, Test Accuracy: 9872/10000 (98.72%)\n",
            "\n",
            "epoch = 3\n"
          ],
          "name": "stdout"
        },
        {
          "output_type": "stream",
          "text": [
            "loss=0.03179297596216202 batch_id=937 Train Accuracy=97.52: 100%|██████████| 938/938 [00:28<00:00, 32.87it/s]\n",
            "  0%|          | 0/938 [00:00<?, ?it/s]"
          ],
          "name": "stderr"
        },
        {
          "output_type": "stream",
          "text": [
            "\n",
            "Test set: Average loss: 0.0346, Test Accuracy: 9890/10000 (98.90%)\n",
            "\n",
            "epoch = 4\n"
          ],
          "name": "stdout"
        },
        {
          "output_type": "stream",
          "text": [
            "loss=0.026832295581698418 batch_id=937 Train Accuracy=97.89: 100%|██████████| 938/938 [00:28<00:00, 33.00it/s]\n",
            "  0%|          | 0/938 [00:00<?, ?it/s]"
          ],
          "name": "stderr"
        },
        {
          "output_type": "stream",
          "text": [
            "\n",
            "Test set: Average loss: 0.0275, Test Accuracy: 9913/10000 (99.13%)\n",
            "\n",
            "epoch = 5\n"
          ],
          "name": "stdout"
        },
        {
          "output_type": "stream",
          "text": [
            "loss=0.014714506454765797 batch_id=937 Train Accuracy=97.96: 100%|██████████| 938/938 [00:28<00:00, 32.59it/s]\n",
            "  0%|          | 0/938 [00:00<?, ?it/s]"
          ],
          "name": "stderr"
        },
        {
          "output_type": "stream",
          "text": [
            "\n",
            "Test set: Average loss: 0.0229, Test Accuracy: 9925/10000 (99.25%)\n",
            "\n",
            "epoch = 6\n"
          ],
          "name": "stdout"
        },
        {
          "output_type": "stream",
          "text": [
            "loss=0.17991861701011658 batch_id=937 Train Accuracy=98.06: 100%|██████████| 938/938 [00:28<00:00, 32.86it/s]\n",
            "  0%|          | 0/938 [00:00<?, ?it/s]"
          ],
          "name": "stderr"
        },
        {
          "output_type": "stream",
          "text": [
            "\n",
            "Test set: Average loss: 0.0228, Test Accuracy: 9927/10000 (99.27%)\n",
            "\n",
            "epoch = 7\n"
          ],
          "name": "stdout"
        },
        {
          "output_type": "stream",
          "text": [
            "loss=0.027076590806245804 batch_id=937 Train Accuracy=98.52: 100%|██████████| 938/938 [00:28<00:00, 32.79it/s]\n",
            "  0%|          | 0/938 [00:00<?, ?it/s]"
          ],
          "name": "stderr"
        },
        {
          "output_type": "stream",
          "text": [
            "\n",
            "Test set: Average loss: 0.0188, Test Accuracy: 9940/10000 (99.40%)\n",
            "\n",
            "epoch = 8\n"
          ],
          "name": "stdout"
        },
        {
          "output_type": "stream",
          "text": [
            "loss=0.014615360647439957 batch_id=937 Train Accuracy=98.66: 100%|██████████| 938/938 [00:28<00:00, 32.70it/s]\n",
            "  0%|          | 0/938 [00:00<?, ?it/s]"
          ],
          "name": "stderr"
        },
        {
          "output_type": "stream",
          "text": [
            "\n",
            "Test set: Average loss: 0.0182, Test Accuracy: 9942/10000 (99.42%)\n",
            "\n",
            "epoch = 9\n"
          ],
          "name": "stdout"
        },
        {
          "output_type": "stream",
          "text": [
            "loss=0.11603250354528427 batch_id=937 Train Accuracy=98.65: 100%|██████████| 938/938 [00:28<00:00, 32.68it/s]\n",
            "  0%|          | 0/938 [00:00<?, ?it/s]"
          ],
          "name": "stderr"
        },
        {
          "output_type": "stream",
          "text": [
            "\n",
            "Test set: Average loss: 0.0185, Test Accuracy: 9939/10000 (99.39%)\n",
            "\n",
            "epoch = 10\n"
          ],
          "name": "stdout"
        },
        {
          "output_type": "stream",
          "text": [
            "loss=0.05683312565088272 batch_id=937 Train Accuracy=98.70: 100%|██████████| 938/938 [00:28<00:00, 32.82it/s]\n",
            "  0%|          | 0/938 [00:00<?, ?it/s]"
          ],
          "name": "stderr"
        },
        {
          "output_type": "stream",
          "text": [
            "\n",
            "Test set: Average loss: 0.0181, Test Accuracy: 9940/10000 (99.40%)\n",
            "\n",
            "epoch = 11\n"
          ],
          "name": "stdout"
        },
        {
          "output_type": "stream",
          "text": [
            "loss=0.3108772039413452 batch_id=937 Train Accuracy=98.70: 100%|██████████| 938/938 [00:28<00:00, 32.75it/s]\n",
            "  0%|          | 0/938 [00:00<?, ?it/s]"
          ],
          "name": "stderr"
        },
        {
          "output_type": "stream",
          "text": [
            "\n",
            "Test set: Average loss: 0.0183, Test Accuracy: 9946/10000 (99.46%)\n",
            "\n",
            "epoch = 12\n"
          ],
          "name": "stdout"
        },
        {
          "output_type": "stream",
          "text": [
            "loss=0.01309967041015625 batch_id=937 Train Accuracy=98.78: 100%|██████████| 938/938 [00:28<00:00, 32.72it/s]\n",
            "  0%|          | 0/938 [00:00<?, ?it/s]"
          ],
          "name": "stderr"
        },
        {
          "output_type": "stream",
          "text": [
            "\n",
            "Test set: Average loss: 0.0172, Test Accuracy: 9944/10000 (99.44%)\n",
            "\n",
            "epoch = 13\n"
          ],
          "name": "stdout"
        },
        {
          "output_type": "stream",
          "text": [
            "loss=0.02326037921011448 batch_id=937 Train Accuracy=98.81: 100%|██████████| 938/938 [00:28<00:00, 32.75it/s]\n",
            "  0%|          | 0/938 [00:00<?, ?it/s]"
          ],
          "name": "stderr"
        },
        {
          "output_type": "stream",
          "text": [
            "\n",
            "Test set: Average loss: 0.0171, Test Accuracy: 9943/10000 (99.43%)\n",
            "\n",
            "epoch = 14\n"
          ],
          "name": "stdout"
        },
        {
          "output_type": "stream",
          "text": [
            "loss=0.038820069283246994 batch_id=937 Train Accuracy=98.85: 100%|██████████| 938/938 [00:28<00:00, 32.70it/s]\n",
            "  0%|          | 0/938 [00:00<?, ?it/s]"
          ],
          "name": "stderr"
        },
        {
          "output_type": "stream",
          "text": [
            "\n",
            "Test set: Average loss: 0.0175, Test Accuracy: 9942/10000 (99.42%)\n",
            "\n",
            "epoch = 15\n"
          ],
          "name": "stdout"
        },
        {
          "output_type": "stream",
          "text": [
            "loss=0.004630223847925663 batch_id=937 Train Accuracy=98.76: 100%|██████████| 938/938 [00:28<00:00, 32.63it/s]\n"
          ],
          "name": "stderr"
        },
        {
          "output_type": "stream",
          "text": [
            "\n",
            "Test set: Average loss: 0.0170, Test Accuracy: 9943/10000 (99.43%)\n",
            "\n"
          ],
          "name": "stdout"
        }
      ]
    },
    {
      "cell_type": "code",
      "metadata": {
        "id": "RLcssDlJ-UQf",
        "colab_type": "code",
        "colab": {
          "base_uri": "https://localhost:8080/",
          "height": 624
        },
        "outputId": "67aee793-501a-467e-c342-1c6f3c227893"
      },
      "source": [
        "%matplotlib inline\n",
        "import matplotlib.pyplot as plt\n",
        "\n",
        "fig, axs = plt.subplots(2,2,figsize=(15,10))\n",
        "axs[0, 0].plot(train_losses)\n",
        "axs[0, 0].set_title(\"Training Loss\")\n",
        "axs[1, 0].plot(train_acc)\n",
        "axs[1, 0].set_title(\"Training Accuracy\")\n",
        "axs[0, 1].plot(test_losses)\n",
        "axs[0, 1].set_title(\"Test Loss\")\n",
        "axs[1, 1].plot(test_acc)\n",
        "axs[1, 1].set_title(\"Test Accuracy\")"
      ],
      "execution_count": null,
      "outputs": [
        {
          "output_type": "execute_result",
          "data": {
            "text/plain": [
              "Text(0.5, 1.0, 'Test Accuracy')"
            ]
          },
          "metadata": {
            "tags": []
          },
          "execution_count": 8
        },
        {
          "output_type": "display_data",
          "data": {
            "image/png": "[encoded data removed]",
            "text/plain": [
              "<Figure size 1080x720 with 4 Axes>"
            ]
          },
          "metadata": {
            "tags": [],
            "needs_background": "light"
          }
        }
      ]
    }
  ]
}