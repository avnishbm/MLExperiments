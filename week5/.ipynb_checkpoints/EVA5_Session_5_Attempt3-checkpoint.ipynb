{
 "cells": [
  {
   "cell_type": "markdown",
   "metadata": {
    "colab_type": "text",
    "id": "ZryMFKwj5oq0"
   },
   "source": [
    "# Attempt 3:\n",
    "## Target: \n",
    "<TBD>\n",
    "\n",
    "## Results:\n",
    "<TBD>\n",
    "\n",
    "## Analysis\n",
    "<TBD>"
   ]
  },
  {
   "cell_type": "markdown",
   "metadata": {
    "colab_type": "text",
    "id": "SQQkQgSFay9z"
   },
   "source": [
    "# Import Libraries"
   ]
  },
  {
   "cell_type": "code",
   "execution_count": null,
   "metadata": {
    "colab": {},
    "colab_type": "code",
    "id": "0m2JWFliFfKT"
   },
   "outputs": [],
   "source": [
    "# importing all the Python Packages & torch Library.\n",
    "from __future__ import print_function\n",
    "import torch\n",
    "import torch.nn as nn\n",
    "import torch.nn.functional as F\n",
    "import torch.optim as optim\n",
    "from torchvision import datasets, transforms"
   ]
  },
  {
   "cell_type": "markdown",
   "metadata": {
    "colab_type": "text",
    "id": "ZDxHd9SdWNJK"
   },
   "source": [
    "# Define Data Transformations & Dataset for Train/Test"
   ]
  },
  {
   "cell_type": "code",
   "execution_count": null,
   "metadata": {
    "colab": {},
    "colab_type": "code",
    "id": "_efQnbQuWLco"
   },
   "outputs": [],
   "source": [
    "train_transforms = transforms.Compose([\n",
    "                        transforms.RandomRotation((-10.0, 10.0), fill=(1,)),\n",
    "                        # transforms.RandomErasing(),\n",
    "                        transforms.ToTensor(),\n",
    "                        transforms.Normalize((0.1307,), (0.3081,))\n",
    "                    ])\n",
    "\n",
    "test_transforms = transforms.Compose([\n",
    "                        transforms.ToTensor(),\n",
    "                        transforms.Normalize((0.1307,), (0.3081,))\n",
    "                    ])\n",
    "\n",
    "train = datasets.MNIST('./data', train=True, download=True, transform=train_transforms)\n",
    "test = datasets.MNIST('./data', train=False, download=True, transform=test_transforms)"
   ]
  },
  {
   "cell_type": "markdown",
   "metadata": {
    "colab_type": "text",
    "id": "y4b0YpskaYd4"
   },
   "source": [
    "# Dataloader Arguments & Train / Test Dataloaders"
   ]
  },
  {
   "cell_type": "code",
   "execution_count": null,
   "metadata": {
    "colab": {},
    "colab_type": "code",
    "id": "2ueKm5zsaWcl"
   },
   "outputs": [],
   "source": [
    "# seed the model to obtain consistent results\n",
    "torch.manual_seed(1)\n",
    "# this is the batch size , in 1 pas no of images passed together.\n",
    "batch_size = 64\n",
    "use_cuda = torch.cuda.is_available()\n",
    "\n",
    "print(\"CUDA Available?\", use_cuda)\n",
    "\n",
    "# kwargs = {'num_workers': 2, 'pin_memory': True} if use_cuda else {}\n",
    "\n",
    "# dataloader arguments - something you'll fetch these from cmdprmt\n",
    "dataloader_args = dict(shuffle=True, batch_size=64, num_workers=4, pin_memory=True) if use_cuda else dict(shuffle=True, batch_size=64)\n",
    "\n",
    "\n",
    "\n",
    "# load the training data and perform standard normalization \n",
    "# parameter for normalization is mean and std dev.\n",
    "# train dataloader\n",
    "train_loader = torch.utils.data.DataLoader(train, **dataloader_args)\n",
    "\n",
    "# test dataloader\n",
    "test_loader = torch.utils.data.DataLoader(test, **dataloader_args)"
   ]
  },
  {
   "cell_type": "markdown",
   "metadata": {
    "colab_type": "text",
    "id": "v3Og4dmBao2N"
   },
   "source": [
    "# The Model"
   ]
  },
  {
   "cell_type": "code",
   "execution_count": null,
   "metadata": {
    "colab": {},
    "colab_type": "code",
    "id": "h_Cx9q2QFgM7"
   },
   "outputs": [],
   "source": [
    "class Net(nn.Module):\n",
    "    def __init__(self):\n",
    "        super(Net, self).__init__()\n",
    "        \n",
    "        self.conv1 = nn.Sequential(\n",
    "            \n",
    "            nn.Conv2d(in_channels=1, out_channels=4, kernel_size=(3, 3), padding=0, bias = True), # output 26X26X4 : RF- 3X3\n",
    "            nn.ReLU(),\n",
    "            nn.BatchNorm2d(4), # Batch Normalization after each convolution.\n",
    "            nn.Dropout2d(0.08), # dropout of 10% at each layer\n",
    "            \n",
    "            nn.Conv2d(4, 8, 3), # output 24X24X8 : RF- 5x5\n",
    "            nn.ReLU(),\n",
    "            nn.BatchNorm2d(8),  # Batch Normalization after each convolution.\n",
    "            nn.Dropout2d(0.08),  # dropout of 10% at each layer\n",
    "\n",
    "            nn.Conv2d(8, 8, 3), # output 22X22X16 : RF- 7X7\n",
    "            nn.ReLU(),\n",
    "            nn.BatchNorm2d(8),  # Batch Normalization after each convolution.\n",
    "            nn.Dropout2d(0.08),  # dropout of 10% at each layer\n",
    "\n",
    "            nn.MaxPool2d(2, 2)       # output 11X11X16 : RF- \n",
    "            )\n",
    "        self.conv2 = nn.Sequential(\n",
    "            \n",
    "           \n",
    "            nn.Conv2d(8, 16, 3), # output 9X9X16 : RF- 18 X18\n",
    "            nn.ReLU(),\n",
    "            nn.BatchNorm2d(16),\n",
    "            nn.Dropout2d(0.08),\n",
    "\n",
    "            nn.Conv2d(16, 8, 3), # output 9X9X16 : RF- 18 X18\n",
    "            nn.ReLU(),\n",
    "            nn.BatchNorm2d(8),\n",
    "            nn.Dropout2d(0.08),\n",
    "\n",
    "            )\n",
    "        self.conv3 = nn.Sequential(\n",
    "           \n",
    "            nn.Conv2d(8, 16, 3,padding=1), # output 07X07X16 : RF- 22 X 22\n",
    "            nn.ReLU(),\n",
    "            nn.BatchNorm2d(16),\n",
    "            nn.Dropout2d(0.08),\n",
    "\n",
    "            nn.Conv2d(16, 10, 1), # output 05X05X10 : RF- 22 X 22\n",
    "            nn.AvgPool2d(7)\n",
    "\n",
    "            )\n",
    "        \n",
    "    def forward(self, x):\n",
    "        \n",
    "        x = self.conv1(x)\n",
    "        x= self.conv2(x)\n",
    "        x= self.conv3(x)\n",
    "        x = x.view(-1, 10)\n",
    "        return F.log_softmax(x, -1)"
   ]
  },
  {
   "cell_type": "markdown",
   "metadata": {
    "colab_type": "text",
    "id": "lMkoC-Q_a-cv"
   },
   "source": [
    "# Print Summary of Model"
   ]
  },
  {
   "cell_type": "code",
   "execution_count": null,
   "metadata": {
    "colab": {},
    "colab_type": "code",
    "id": "xdydjYTZFyi3"
   },
   "outputs": [],
   "source": [
    "!pip install torchsummary\n",
    "from torchsummary import summary\n",
    "device = torch.device(\"cuda\" if use_cuda else \"cpu\")\n",
    "model = Net().to(device)\n",
    "summary(model, input_size=(1, 28, 28))"
   ]
  },
  {
   "cell_type": "markdown",
   "metadata": {
    "colab_type": "text",
    "id": "H6q9jwl0dhtx"
   },
   "source": [
    "# Define Train and Test functions"
   ]
  },
  {
   "cell_type": "code",
   "execution_count": null,
   "metadata": {
    "colab": {},
    "colab_type": "code",
    "id": "8fDefDhaFlwH"
   },
   "outputs": [],
   "source": [
    "from tqdm import tqdm\n",
    "\n",
    "train_losses = []\n",
    "test_losses = []\n",
    "train_acc = []\n",
    "test_acc = []\n",
    "\n",
    "# Function to train \n",
    "'''\n",
    "Args: \n",
    "Model : created model to be used for training\n",
    "device : GPU or cpu\n",
    "train_laoded: data on which the training has to be done\n",
    "Optimizer : the optimization algorithm to be used\n",
    "epoch : no fo epoch \n",
    "\n",
    "'''\n",
    "def train(model, device, train_loader, optimizer, epoch):\n",
    "    model.train() # Set the model on training mode\n",
    "    pbar = tqdm(train_loader)\n",
    "    correct = 0\n",
    "    processed = 0\n",
    "    for batch_idx, (data, target) in enumerate(pbar):\n",
    "        data, target = data.to(device), target.to(device) # moving the data to device\n",
    "        optimizer.zero_grad() # zero the graidents \n",
    "        output = model(data) # getting the model output\n",
    "        loss = F.nll_loss(output, target) # calculating the The negative log likelihood loss\n",
    "        train_losses.append(loss)\n",
    "        loss.backward() # flowing the gradients backward.\n",
    "        optimizer.step() # paameter updated basd on the current gradient.\n",
    "        \n",
    "        pred = output.argmax(dim=1, keepdim=True)  # get the index of the max log-probability\n",
    "        correct += pred.eq(target.view_as(pred)).sum().item()\n",
    "        processed += len(data)        \n",
    "        \n",
    "        pbar.set_description(desc= f'loss={loss.item()} batch_id={batch_idx} Train Accuracy={100*correct/processed:0.2f}')\n",
    "        train_acc.append(100*correct/processed)\n",
    "\n",
    "# Function to test \n",
    "'''\n",
    "Args: \n",
    "Model : created model to be used for training\n",
    "device : GPU or cpu\n",
    "test_laoded: data on which the testing has to be done\n",
    " \n",
    "\n",
    "'''\n",
    "def test(model, device, test_loader):\n",
    "    model.eval() # seting up the model for evalaution.\n",
    "    test_loss = 0 # setting the test loss to 0\n",
    "    correct = 0 # countign the no of coorect classfication.\n",
    "    with torch.no_grad(): # turn off gradients, since we are in test mode\n",
    "        for data, target in test_loader:\n",
    "            data, target = data.to(device), target.to(device)   # copy the data to device.\n",
    "            output = model(data) # predict the output\n",
    "            test_loss += F.nll_loss(output, target, reduction='sum').item()  # sum up batch loss\n",
    "            pred = output.argmax(dim=1, keepdim=True)  # get the index of the max log-probability\n",
    "            correct += pred.eq(target.view_as(pred)).sum().item()\n",
    "\n",
    "    test_loss /= len(test_loader.dataset) # calculating hte test loss.\n",
    "    test_losses.append(test_loss)\n",
    "\n",
    "    print('\\nTest set: Average loss: {:.4f}, Test Accuracy: {}/{} ({:.2f}%)\\n'.format(\n",
    "        test_loss, correct, len(test_loader.dataset),\n",
    "        100. * correct / len(test_loader.dataset)))\n",
    "    test_acc.append(100. * correct / len(test_loader.dataset))"
   ]
  },
  {
   "cell_type": "markdown",
   "metadata": {
    "colab_type": "text",
    "id": "H3tYkzvQdWbc"
   },
   "source": [
    "# Run the model"
   ]
  },
  {
   "cell_type": "code",
   "execution_count": null,
   "metadata": {
    "colab": {},
    "colab_type": "code",
    "id": "MMWbLWO6FuHb"
   },
   "outputs": [],
   "source": [
    "from torch.optim.lr_scheduler import StepLR\n",
    "\n",
    "\n",
    "model = Net().to(device) # move the model to device.\n",
    "optimizer = optim.SGD(model.parameters(), lr=0.05, momentum=0.9)  # intiating the SGD optimizer\n",
    "scheduler = StepLR(optimizer, step_size=6, gamma=0.5)\n",
    "\n",
    "\n",
    "for epoch in range(1, 16):\n",
    "    print(\"epoch =\", epoch)\n",
    "    train(model, device, train_loader, optimizer, epoch)\n",
    "    scheduler.step()\n",
    "    test(model, device, test_loader)\n",
    "    "
   ]
  },
  {
   "cell_type": "code",
   "execution_count": null,
   "metadata": {
    "colab": {},
    "colab_type": "code",
    "id": "RLcssDlJ-UQf"
   },
   "outputs": [],
   "source": [
    "%matplotlib inline\n",
    "import matplotlib.pyplot as plt\n",
    "\n",
    "fig, axs = plt.subplots(2,2,figsize=(15,10))\n",
    "axs[0, 0].plot(train_losses)\n",
    "axs[0, 0].set_title(\"Training Loss\")\n",
    "axs[1, 0].plot(train_acc)\n",
    "axs[1, 0].set_title(\"Training Accuracy\")\n",
    "axs[0, 1].plot(test_losses)\n",
    "axs[0, 1].set_title(\"Test Loss\")\n",
    "axs[1, 1].plot(test_acc)\n",
    "axs[1, 1].set_title(\"Test Accuracy\")"
   ]
  }
 ],
 "metadata": {
  "accelerator": "GPU",
  "colab": {
   "collapsed_sections": [],
   "name": "EVA5_Session 5_Attempt3.ipynb",
   "provenance": []
  },
  "kernelspec": {
   "display_name": "Python 3",
   "language": "python",
   "name": "python3"
  }
 },
 "nbformat": 4,
 "nbformat_minor": 1
}
